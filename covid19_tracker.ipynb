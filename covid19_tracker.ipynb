{
 "cells": [
  {
   "cell_type": "markdown",
   "id": "95a04b67",
   "metadata": {},
   "source": [
    "# COVID-19 Global Data Tracker\n",
    "\n",
    "This project analyzes global COVID-19 trends using data from [Our World in Data](https://ourworldindata.org/coronavirus).  \n",
    "We will explore cases, deaths, and vaccinations across countries and over time.\n",
    "\n",
    "---\n",
    "\n",
    "## Step 1: Import Libraries\n"
   ]
  },
  {
   "cell_type": "code",
   "execution_count": null,
   "id": "e49d226b",
   "metadata": {},
   "outputs": [
    {
     "ename": "",
     "evalue": "",
     "output_type": "error",
     "traceback": [
      "\u001b[1;31mFailed to start the Kernel. \n",
      "\u001b[1;31mUnable to start Kernel 'Python 3.13.2' due to a timeout waiting for the ports to get used. \n",
      "\u001b[1;31mView Jupyter <a href='command:jupyter.viewOutput'>log</a> for further details."
     ]
    }
   ],
   "source": [
    "import pandas as pd\n",
    "import matplotlib.pyplot as plt\n",
    "import seaborn as sns\n"
   ]
  },
  {
   "cell_type": "markdown",
   "id": "551197b2",
   "metadata": {},
   "source": [
    "## Step 2:Load Data\n"
   ]
  },
  {
   "cell_type": "code",
   "execution_count": null,
   "id": "3162e720",
   "metadata": {},
   "outputs": [],
   "source": [
    "\n",
    "df = pd.read_csv('data/owid-covid-data.csv')\n",
    "df.head()"
   ]
  },
  {
   "cell_type": "markdown",
   "id": "9438cf11",
   "metadata": {},
   "source": [
    "## Step 3: Explore Data\n"
   ]
  },
  {
   "cell_type": "code",
   "execution_count": null,
   "id": "99b453f8",
   "metadata": {},
   "outputs": [],
   "source": [
    "df.columns\n",
    "df.shape\n",
    "df.isnull().sum()"
   ]
  },
  {
   "cell_type": "markdown",
   "id": "a09c96b4",
   "metadata": {},
   "source": [
    "# Step 4: Data Cleaning\n",
    "# Filter for selected countries"
   ]
  },
  {
   "cell_type": "code",
   "execution_count": null,
   "id": "0866fe2e",
   "metadata": {},
   "outputs": [],
   "source": [
    "countries = ['Kenya', 'India', 'United States']\n",
    "df = df[df['location'].isin(countries)]"
   ]
  },
  {
   "cell_type": "markdown",
   "id": "806ed093",
   "metadata": {},
   "source": [
    "# Convert date column\n"
   ]
  },
  {
   "cell_type": "code",
   "execution_count": null,
   "id": "07a8af12",
   "metadata": {},
   "outputs": [],
   "source": [
    "df['date'] = pd.to_datetime(df['date'])"
   ]
  },
  {
   "cell_type": "markdown",
   "id": "9d1ad665",
   "metadata": {},
   "source": [
    "# Fill missing values\n"
   ]
  },
  {
   "cell_type": "code",
   "execution_count": null,
   "id": "0f5aeedc",
   "metadata": {},
   "outputs": [],
   "source": [
    "df.fillna(0, inplace=True)"
   ]
  },
  {
   "cell_type": "code",
   "execution_count": null,
   "id": "ad38dc1e",
   "metadata": {},
   "outputs": [],
   "source": [
    "# Step 5: Plot Total Cases Over Time\n",
    "plt.figure(figsize=(12, 6))\n",
    "for country in countries:\n",
    "    country_df = df[df['location'] == country]\n",
    "    plt.plot(country_df['date'], country_df['total_cases'], label=country)\n",
    "\n",
    "plt.title('Total COVID-19 Cases Over Time')\n",
    "plt.xlabel('Date')\n",
    "plt.ylabel('Total Cases')\n",
    "plt.legend()\n",
    "plt.grid(True)\n",
    "plt.tight_layout()\n",
    "plt.show()\n"
   ]
  },
  {
   "cell_type": "markdown",
   "id": "598d046a",
   "metadata": {},
   "source": [
    "#Data cleaning-  List of countries to be analyzed\n"
   ]
  },
  {
   "cell_type": "code",
   "execution_count": null,
   "id": "c81423b4",
   "metadata": {},
   "outputs": [],
   "source": [
    "countries = ['Kenya', 'India', 'United States']"
   ]
  },
  {
   "cell_type": "code",
   "execution_count": null,
   "id": "369dfddf",
   "metadata": {},
   "outputs": [],
   "source": [
    "# Filter data to include only selected countries\n",
    "df_countries = df[df['location'].isin(countries)]"
   ]
  },
  {
   "cell_type": "code",
   "execution_count": null,
   "id": "cabde280",
   "metadata": {},
   "outputs": [],
   "source": [
    "# Check the result\n",
    "df_countries['location'].unique()"
   ]
  },
  {
   "cell_type": "code",
   "execution_count": null,
   "id": "a6eea4f2",
   "metadata": {},
   "outputs": [],
   "source": []
  },
  {
   "cell_type": "code",
   "execution_count": null,
   "id": "2b250c9b",
   "metadata": {},
   "outputs": [],
   "source": [
    "# Convert the 'date' column to datetime\n",
    "df_countries['date'] = pd.to_datetime(df_countries['date'])\n",
    "\n",
    "# Confirm the change\n",
    "df_countries.dtypes['date']\n"
   ]
  },
  {
   "cell_type": "code",
   "execution_count": null,
   "id": "26159c48",
   "metadata": {},
   "outputs": [],
   "source": [
    "# Drop rows where total_cases is missing\n",
    "df_cleaned = df_countries.dropna(subset=['total_cases'])\n",
    "\n",
    "# Preview cleaned data\n",
    "df_cleaned.head()\n"
   ]
  },
  {
   "cell_type": "code",
   "execution_count": null,
   "id": "ce1fe9fc",
   "metadata": {},
   "outputs": [],
   "source": [
    "# Fill missing values with 0 (or use interpolate() for smoother data)\n",
    "df_cleaned[['total_deaths', 'total_vaccinations']] = df_cleaned[['total_deaths', 'total_vaccinations']].fillna(0)\n"
   ]
  },
  {
   "cell_type": "code",
   "execution_count": null,
   "id": "88427e99",
   "metadata": {},
   "outputs": [],
   "source": [
    "df_cleaned.to_csv('data/cleaned_covid_data.csv', index=False)\n"
   ]
  },
  {
   "cell_type": "code",
   "execution_count": null,
   "id": "e4c4d204",
   "metadata": {},
   "outputs": [],
   "source": [
    "import matplotlib.pyplot as plt\n",
    "import seaborn as sns\n",
    "\n",
    "# Set plot style\n",
    "sns.set(style=\"darkgrid\")\n",
    "\n",
    "# Plot total cases over time\n",
    "plt.figure(figsize=(12, 6))\n",
    "for country in df_cleaned['location'].unique():\n",
    "    country_data = df_cleaned[df_cleaned['location'] == country]\n",
    "    plt.plot(country_data['date'], country_data['total_cases'], label=country)\n",
    "\n",
    "plt.title('Total COVID-19 Cases Over Time')\n",
    "plt.xlabel('Date')\n",
    "plt.ylabel('Total Cases')\n",
    "plt.legend()\n",
    "plt.tight_layout()\n",
    "plt.show()\n"
   ]
  },
  {
   "cell_type": "code",
   "execution_count": null,
   "id": "259a25ae",
   "metadata": {},
   "outputs": [],
   "source": [
    "plt.figure(figsize=(12, 6))\n",
    "for country in df_cleaned['location'].unique():\n",
    "    country_data = df_cleaned[df_cleaned['location'] == country]\n",
    "    plt.plot(country_data['date'], country_data['total_deaths'], label=country)\n",
    "\n",
    "plt.title('Total COVID-19 Deaths Over Time')\n",
    "plt.xlabel('Date')\n",
    "plt.ylabel('Total Deaths')\n",
    "plt.legend()\n",
    "plt.tight_layout()\n",
    "plt.show()\n"
   ]
  },
  {
   "cell_type": "code",
   "execution_count": null,
   "id": "7d8c106a",
   "metadata": {},
   "outputs": [],
   "source": [
    "plt.figure(figsize=(12, 6))\n",
    "for country in df_cleaned['location'].unique():\n",
    "    country_data = df_cleaned[df_cleaned['location'] == country]\n",
    "    plt.plot(country_data['date'], country_data['new_cases'], label=country)\n",
    "\n",
    "plt.title('Daily New COVID-19 Cases')\n",
    "plt.xlabel('Date')\n",
    "plt.ylabel('New Cases')\n",
    "plt.legend()\n",
    "plt.tight_layout()\n",
    "plt.show()\n"
   ]
  },
  {
   "cell_type": "code",
   "execution_count": null,
   "id": "c211ee94",
   "metadata": {},
   "outputs": [],
   "source": [
    "# Adding a new column for death rate\n",
    "df_cleaned['death_rate'] = df_cleaned['total_deaths'] / df_cleaned['total_cases']\n",
    "\n",
    "# Plot\n",
    "plt.figure(figsize=(12, 6))\n",
    "for country in df_cleaned['location'].unique():\n",
    "    country_data = df_cleaned[df_cleaned['location'] == country]\n",
    "    plt.plot(country_data['date'], country_data['death_rate'], label=country)\n",
    "\n",
    "plt.title('COVID-19 Death Rate Over Time')\n",
    "plt.xlabel('Date')\n",
    "plt.ylabel('Death Rate')\n",
    "plt.legend()\n",
    "plt.tight_layout()\n",
    "plt.show()\n"
   ]
  },
  {
   "cell_type": "code",
   "execution_count": null,
   "id": "17e35d84",
   "metadata": {},
   "outputs": [],
   "source": [
    "plt.figure(figsize=(12, 6))\n",
    "for country in df_cleaned['location'].unique():\n",
    "    country_data = df_cleaned[df_cleaned['location'] == country]\n",
    "    plt.plot(country_data['date'], country_data['total_vaccinations'], label=country)\n",
    "\n",
    "plt.title('Total COVID-19 Vaccinations Over Time')\n",
    "plt.xlabel('Date')\n",
    "plt.ylabel('Total Vaccinations')\n",
    "plt.legend()\n",
    "plt.tight_layout()\n",
    "plt.show()\n"
   ]
  },
  {
   "cell_type": "code",
   "execution_count": null,
   "id": "c0a8ae9c",
   "metadata": {},
   "outputs": [],
   "source": [
    "plt.figure(figsize=(12, 6))\n",
    "for country in df_cleaned['location'].unique():\n",
    "    country_data = df_cleaned[df_cleaned['location'] == country]\n",
    "    plt.plot(country_data['date'], country_data['people_vaccinated_per_hundred'], label=country)\n",
    "\n",
    "plt.title('Percentage of People Vaccinated Over Time')\n",
    "plt.xlabel('Date')\n",
    "plt.ylabel('% Vaccinated')\n",
    "plt.legend()\n",
    "plt.tight_layout()\n",
    "plt.show()\n"
   ]
  },
  {
   "cell_type": "code",
   "execution_count": null,
   "id": "68d5e16b",
   "metadata": {},
   "outputs": [],
   "source": [
    "# Latest data for Kenya \n",
    "kenya_latest = df_cleaned[df_cleaned['location'] == 'Kenya'].dropna(subset=['people_vaccinated_per_hundred']).iloc[-1]\n",
    "vaccinated = kenya_latest['people_vaccinated_per_hundred']\n",
    "unvaccinated = 100 - vaccinated\n",
    "\n",
    "# Pie chart\n",
    "plt.figure(figsize=(6, 6))\n",
    "plt.pie([vaccinated, unvaccinated], labels=['Vaccinated', 'Unvaccinated'], autopct='%1.1f%%', startangle=140)\n",
    "plt.title(f'Vaccination Status in Kenya as of {kenya_latest[\"date\"].date()}')\n",
    "plt.show()\n"
   ]
  },
  {
   "cell_type": "code",
   "execution_count": null,
   "id": "5442b955",
   "metadata": {},
   "outputs": [],
   "source": [
    "# Get the latest date per country\n",
    "latest_data = df_cleaned.sort_values('date').groupby('location').tail(1)\n",
    "\n",
    "# Keep only the required columns\n",
    "map_df = latest_data[['location', 'iso_code', 'total_cases', 'people_vaccinated_per_hundred']]\n"
   ]
  },
  {
   "cell_type": "code",
   "execution_count": null,
   "id": "9672af35",
   "metadata": {},
   "outputs": [],
   "source": [
    "import plotly.express as px\n",
    "\n",
    "fig = px.choropleth(\n",
    "    map_df,\n",
    "    locations=\"iso_code\",\n",
    "    color=\"total_cases\",\n",
    "    hover_name=\"location\",\n",
    "    color_continuous_scale=\"Reds\",\n",
    "    title=\"Total COVID-19 Cases by Country (Latest)\"\n",
    ")\n",
    "fig.show()\n"
   ]
  },
  {
   "cell_type": "code",
   "execution_count": null,
   "id": "586451a2",
   "metadata": {},
   "outputs": [],
   "source": [
    "fig = px.choropleth(\n",
    "    map_df,\n",
    "    locations=\"iso_code\",\n",
    "    color=\"people_vaccinated_per_hundred\",\n",
    "    hover_name=\"location\",\n",
    "    color_continuous_scale=\"Greens\",\n",
    "    title=\"Percentage of Population Vaccinated by Country (Latest)\"\n",
    ")\n",
    "fig.show()\n"
   ]
  },
  {
   "cell_type": "markdown",
   "id": "0ae97756",
   "metadata": {},
   "source": [
    "# Key Insights from COVID-19 Global Data Tracker\n",
    "\n",
    "- The USA and India consistently have the highest total COVID-19 cases and deaths.\n",
    "- Vaccination rates vary significantly across countries, with some achieving over 70% coverage while others lag behind.\n",
    "- There is a visible correlation between high vaccination coverage and lower new cases in some countries.\n",
    "- Some countries have anomalous spikes in cases, indicating possible data reporting issues or outbreaks.\n",
    "- Death rates have generally declined over time, likely due to better treatment and vaccine rollout.\n"
   ]
  }
 ],
 "metadata": {
  "kernelspec": {
   "display_name": "Python 3",
   "language": "python",
   "name": "python3"
  },
  "language_info": {
   "name": "python",
   "version": "3.13.2"
  }
 },
 "nbformat": 4,
 "nbformat_minor": 5
}
